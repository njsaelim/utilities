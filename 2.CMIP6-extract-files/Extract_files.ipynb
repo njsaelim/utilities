{
 "cells": [
  {
   "cell_type": "code",
   "execution_count": 35,
   "metadata": {},
   "outputs": [],
   "source": [
    "import os\n",
    "import pandas as pd\n",
    "from netCDF4 import Dataset"
   ]
  },
  {
   "cell_type": "code",
   "execution_count": 53,
   "metadata": {},
   "outputs": [
    {
     "name": "stdout",
     "output_type": "stream",
     "text": [
      "Files to extract:\n",
      "['sfcWind_day_CESM2_ssp245_r11i1p1f1_gn_20950101-21010101.nc', 'tas_day_CESM2_historical_r4i1p1f1_gn_19600101-19691231.nc', 'tas_day_CESM2_ssp245_r11i1p1f1_gn_20950101-21010101.nc']\n",
      "\n"
     ]
    },
    {
     "name": "stderr",
     "output_type": "stream",
     "text": [
      "<ipython-input-53-bb9ea84e7311>:22: UserWarning: WARNING: missing_value not used since it\n",
      "cannot be safely cast to variable data type\n",
      "  hold = fh.variables[foo[0]][:,80,231].squeeze() # Replace to any coordinate you want.\n"
     ]
    },
    {
     "name": "stdout",
     "output_type": "stream",
     "text": [
      "sfcWind_day_CESM2_ssp245_r11i1p1f1_gn_20950101-21010101 ---done\n",
      "tas_day_CESM2_historical_r4i1p1f1_gn_19600101-19691231 ---done\n",
      "tas_day_CESM2_ssp245_r11i1p1f1_gn_20950101-21010101 ---done\n"
     ]
    }
   ],
   "source": [
    "###### Simple file extraction loop ######\n",
    "\n",
    "# Directory set-up\n",
    "full_path = list()\n",
    "parent_dir = \"C:/Users/nadia/Desktop/test/data/\"\n",
    "dir_list= os.listdir(parent_dir) # files in 'data' folders\n",
    "print(\"Files to extract:\")\n",
    "print(dir_list)\n",
    "print(\"\")\n",
    "\n",
    "# Preparation\n",
    "for dir in dir_list:\n",
    "    path = os.path.join(parent_dir, dir)\n",
    "    full_path.append(path)\n",
    "\n",
    "# Loop\n",
    "for dir in dir_list:\n",
    "    foo = dir[:-3]\n",
    "    foo = foo.split(\"_\")\n",
    "    file_name = os.path.join(parent_dir, dir)\n",
    "    with Dataset(file_name, mode='r') as fh:\n",
    "        hold = fh.variables[foo[0]][:,80,231].squeeze() # Replace to any coordinate you want.\n",
    "    hold1 = hold.filled()\n",
    "    result = pd.DataFrame(hold1)\n",
    "    name = dir[:-3]\n",
    "    result.to_csv(name+\".csv\")\n",
    "    print(name+\" ---done\")\n",
    "\n",
    "#for path in full_path:\n",
    "#    c = path[-9:]\n",
    "#    c = c.replace(\"_\",\"\")\n",
    "#    print(c)\n",
    "\n"
   ]
  },
  {
   "cell_type": "code",
   "execution_count": 61,
   "metadata": {},
   "outputs": [
    {
     "name": "stderr",
     "output_type": "stream",
     "text": [
      "/RAID/home/jsae-lim/anaconda3/envs/geo_env1/lib/python3.7/site-packages/ipykernel_launcher.py:45: UserWarning: WARNING: missing_value not used since it\n",
      "cannot be safely cast to variable data type\n"
     ]
    },
    {
     "name": "stdout",
     "output_type": "stream",
     "text": [
      "tas_CESM2_ssp245_r4i1p1f1_gn---done\n",
      "hurs_CESM2_ssp245_r4i1p1f1_gn---done\n",
      "rsds_CESM2_ssp245_r4i1p1f1_gn---done\n",
      "rlds_CESM2_ssp245_r4i1p1f1_gn---done\n",
      "sfcWind_CESM2_ssp245_r4i1p1f1_gn---done\n",
      "ps_CESM2_ssp245_r4i1p1f1_gn---done\n",
      "tas_CESM2_ssp245_r11i1p1f1_gn---done\n",
      "hurs_CESM2_ssp245_r11i1p1f1_gn---done\n",
      "rsds_CESM2_ssp245_r11i1p1f1_gn---done\n",
      "rlds_CESM2_ssp245_r11i1p1f1_gn---done\n",
      "sfcWind_CESM2_ssp245_r11i1p1f1_gn---done\n",
      "ps_CESM2_ssp245_r11i1p1f1_gn---done\n",
      "tas_CESM2_ssp585_r4i1p1f1_gn---done\n",
      "hurs_CESM2_ssp585_r4i1p1f1_gn---done\n",
      "rsds_CESM2_ssp585_r4i1p1f1_gn---done\n",
      "rlds_CESM2_ssp585_r4i1p1f1_gn---done\n",
      "sfcWind_CESM2_ssp585_r4i1p1f1_gn---done\n",
      "ps_CESM2_ssp585_r4i1p1f1_gn---done\n",
      "tas_CESM2_ssp585_r11i1p1f1_gn---done\n",
      "hurs_CESM2_ssp585_r11i1p1f1_gn---done\n",
      "rsds_CESM2_ssp585_r11i1p1f1_gn---done\n",
      "rlds_CESM2_ssp585_r11i1p1f1_gn---done\n",
      "sfcWind_CESM2_ssp585_r11i1p1f1_gn---done\n",
      "ps_CESM2_ssp585_r11i1p1f1_gn---done\n"
     ]
    }
   ],
   "source": [
    "# This is for when you have multiple experiments with same ensemble members and you have specific periods you \n",
    "# want to extract. It will also concat data into a single column in time list order.\n",
    "\n",
    "# Set-up\n",
    "path = \"/RAID/home/jsae-lim/CESM/data/\"\n",
    "mod = [\"CESM2\"] # model\n",
    "exp = [\"ssp245\",\"ssp585\", \"historical\"] # experiment\n",
    "var = [\"r4i1p1f1\", \"r11i1p1f1\"] # variance\n",
    "variable = [\"tas\",\"hurs\",\"rsds\",\"rlds\",\"sfcWind\",\"ps\"] # variable\n",
    "\n",
    "# time you want to extract. (It's complicated here because I have three experiments and three ensembles, and their \n",
    "# periods are not always the same.)\n",
    "\n",
    "time1 = [\"19800101-19891231\",\"19900101-19991231\",\"20000101-20091231\",\"20100101-20150101\"]\n",
    "time4 = [\"19800101-19891231\",\"19900101-19991231\",\"20000101-20091231\",\"20100101-20150103\"]\n",
    "time2 = [\"20150101-20241231\",\"20250101-20341231\",\"20350101-20441231\",\"20450101-20541231\",\n",
    "        \"20550101-20641231\",\"20650101-20741231\",\"20750101-20841231\",\"20850101-20941231\",\n",
    "        \"20950101-21010101\"]\n",
    "time3 = [\"201501-206412\",\"206501-210012\"]\n",
    "\n",
    "# Loop\n",
    "for i in exp:\n",
    "    for j in var:\n",
    "        for k in variable:\n",
    "            if i == \"historical\":\n",
    "                result = []\n",
    "                if j == \"r4i1p1f1\":\n",
    "                    time = time4\n",
    "                else:\n",
    "                    time = time1\n",
    "                for l in time:\n",
    "                    if k == \"ps\":\n",
    "                        file_name = path+\"/\"+k+\"_CFday_\"+mod+\"_\"+i+\"_\"+j+\"_gn_\"+l+\".nc\"\n",
    "                    else:\n",
    "                        file_name = path+i+\"_\"+j+\"/\"+k+\"_day_\"+mod+\"_\"+i+\"_\"+j+\"_gn_\"+l+\".nc\"\n",
    "                    with Dataset(file_name, mode='r') as fh:\n",
    "                        foo = fh.variables[k][:,80,231].squeeze() # Set to coordinate you want.\n",
    "                    foo1 = foo.filled()\n",
    "                    for x in foo1:\n",
    "                        result.append(x)\n",
    "                result2 = pd.DataFrame(result)\n",
    "                result2.to_csv(k+\"_\"+mod+\"_\"+i+\"_\"+j+\"_gn.csv\")\n",
    "                print(k+\"_\"+mod+\"_\"+i+\"_\"+j+\"_gn\"+\"---done\")\n",
    "            else:\n",
    "                result = []\n",
    "                if k == \"ps\":\n",
    "                    time = time3\n",
    "                    y = \"_Amon\"\n",
    "                else:\n",
    "                    time = time2\n",
    "                    y = \"_day\"\n",
    "                for m in time:\n",
    "                    file_name = path+i+\"_\"+j+\"/\"+k+y+\"_\"+mod+\"_\"+i+\"_\"+j+\"_gn_\"+m+\".nc\"\n",
    "                    with Dataset(file_name, mode='r') as fh:\n",
    "                        foo = fh.variables[k][:,80,231].squeeze() # Set to coordinate you want.\n",
    "                    foo1 = foo.filled()\n",
    "                    for x in foo1:\n",
    "                        result.append(x)\n",
    "                result2 = pd.DataFrame(result)\n",
    "                result2.to_csv(k+\"_\"+mod+\"_\"+i+\"_\"+j+\"_gn.csv\")\n",
    "                print(k+\"_CESM2_\"+i+\"_\"+j+\"_gn\"+\"---done\")\n",
    "print(\"done\")"
   ]
  }
 ],
 "metadata": {
  "kernelspec": {
   "display_name": "Python [conda env:geo_env1]",
   "language": "python",
   "name": "conda-env-geo_env1-py"
  },
  "language_info": {
   "codemirror_mode": {
    "name": "ipython",
    "version": 3
   },
   "file_extension": ".py",
   "mimetype": "text/x-python",
   "name": "python",
   "nbconvert_exporter": "python",
   "pygments_lexer": "ipython3",
   "version": "3.8.2"
  }
 },
 "nbformat": 4,
 "nbformat_minor": 5
}
