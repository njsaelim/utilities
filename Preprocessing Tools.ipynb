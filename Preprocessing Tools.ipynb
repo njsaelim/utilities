{
 "cells": [
  {
   "cell_type": "markdown",
   "metadata": {},
   "source": [
    "# 1. Resampling"
   ]
  },
  {
   "cell_type": "markdown",
   "metadata": {},
   "source": [
    "### 1.1 Simple resampling function\n",
    "If data has a datetime object (or you can convert to one), you can resample using datetime.resample."
   ]
  },
  {
   "cell_type": "code",
   "execution_count": null,
   "metadata": {},
   "outputs": [],
   "source": [
    "df = pd.read_csv(r\"Z:\\Lake_model\\final\\Lake_model_CESM2\\Visualization\\input-variable-t2m.csv\") # import files\n",
    "df['datetime'] = pd.to_datetime(df['Year'], format='%Y') # Convert to datetime object\n",
    "df_year = df.set_index('datetime').resample('y').mean() # Resample (e.g. yearly average)\n",
    "df_year.to_csv(\"input-variable-t2m_yearly.csv\") # Export"
   ]
  },
  {
   "cell_type": "markdown",
   "metadata": {},
   "source": [
    "### 1.2 Using \"groupby\" \n",
    "If a dataframe already have different time indices, you can use 'groupby' and reindex the dataframe.  "
   ]
  },
  {
   "cell_type": "code",
   "execution_count": null,
   "metadata": {},
   "outputs": [],
   "source": [
    "df = pd.read_csv('profile-505_reanalysis_2.txt', delim_whitespace=True, engine='python', header = None) # import files\n",
    "dfEst = df.groupby([df.Decade,df.Month,df.Day]).mean() #groupby different indices\n",
    "dfEst.to_csv('profile-505_reanalysis_decade.csv') # Export"
   ]
  },
  {
   "cell_type": "markdown",
   "metadata": {},
   "source": [
    "### 1.3 Resampling loop"
   ]
  },
  {
   "cell_type": "code",
   "execution_count": null,
   "metadata": {},
   "outputs": [],
   "source": [
    "path_list = []\n",
    "k =0\n",
    "\n",
    "# Create a path list of files using os\n",
    "parent = r\"Z:\\Lake_model\\final\\Lake_model_CESM2\\delta\" # parent path\n",
    "dir_list = os.listdir(parent) # file list\n",
    "\n",
    "for i in dir_list:\n",
    "    path = os.path.join(parent, i)\n",
    "    path_list.append(path) #path list\n",
    "\n",
    "# Create a loop to read files and resample.\n",
    "for path in path_list:\n",
    "    df = pd.read_csv(path) # read each file\n",
    "    df['datetime'] = pd.to_datetime(df['Date']) # Convert to a datetime object\n",
    "    \n",
    "    # Resample to hour (h) using .ffill model (fill). Can change to different timestep and mode.\n",
    "    df = df.set_index('datetime').resample('h').ffill() \n",
    "    df = df[~((df.index.month == 2) & (df.index.day == 29))] # Remove 2/29 (leap year) to create 365 days/year.\n",
    "    name = dir_list[k][:-4] # Extract the file name by dropping file extension.\n",
    "    df.to_csv(name+'hour.csv') # Export\n",
    "    k = k+1"
   ]
  }
 ],
 "metadata": {
  "kernelspec": {
   "display_name": "Python 3",
   "language": "python",
   "name": "python3"
  },
  "language_info": {
   "codemirror_mode": {
    "name": "ipython",
    "version": 3
   },
   "file_extension": ".py",
   "mimetype": "text/x-python",
   "name": "python",
   "nbconvert_exporter": "python",
   "pygments_lexer": "ipython3",
   "version": "3.8.5"
  }
 },
 "nbformat": 4,
 "nbformat_minor": 4
}
